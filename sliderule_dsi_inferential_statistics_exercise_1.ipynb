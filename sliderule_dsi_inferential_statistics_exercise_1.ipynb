{
 "cells": [
  {
   "cell_type": "markdown",
   "metadata": {},
   "source": [
    "# What is the True Normal Human Body Temperature? \n",
    "\n",
    "#### Background\n",
    "\n",
    "The mean normal body temperature was held to be 37$^{\\circ}$C or 98.6$^{\\circ}$F for more than 120 years since it was first conceptualized and reported by Carl Wunderlich in a famous 1868 book. But, is this value statistically correct?"
   ]
  },
  {
   "cell_type": "markdown",
   "metadata": {},
   "source": [
    "<h3>Exercises</h3>\n",
    "\n",
    "<p>In this exercise, you will analyze a dataset of human body temperatures and employ the concepts of hypothesis testing, confidence intervals, and statistical significance.</p>\n",
    "\n",
    "<p>Answer the following questions <b>in this notebook below and submit to your Github account</b>.</p> \n",
    "\n",
    "<ol>\n",
    "<li>  Is the distribution of body temperatures normal? \n",
    "    <ul>\n",
    "    <li> Although this is not a requirement for CLT to hold (read CLT carefully), it gives us some peace of mind that the population may also be normally distributed if we assume that this sample is representative of the population.\n",
    "    </ul>\n",
    "<li>  Is the sample size large? Are the observations independent?\n",
    "    <ul>\n",
    "    <li> Remember that this is a condition for the CLT, and hence the statistical tests we are using, to apply.\n",
    "    </ul>\n",
    "<li>  Is the true population mean really 98.6 degrees F?\n",
    "    <ul>\n",
    "    <li> Would you use a one-sample or two-sample test? Why?\n",
    "    <li> In this situation, is it appropriate to use the $t$ or $z$ statistic? \n",
    "    <li> Now try using the other test. How is the result be different? Why?\n",
    "    </ul>\n",
    "<li>  Draw a small sample of size 10 from the data and repeat both tests. \n",
    "    <ul>\n",
    "    <li> Which one is the correct one to use? \n",
    "    <li> What do you notice? What does this tell you about the difference in application of the $t$ and $z$ statistic?\n",
    "    </ul>\n",
    "<li>  At what temperature should we consider someone's temperature to be \"abnormal\"?\n",
    "    <ul>\n",
    "    <li> Start by computing the margin of error and confidence interval.\n",
    "    </ul>\n",
    "<li>  Is there a significant difference between males and females in normal temperature?\n",
    "    <ul>\n",
    "    <li> What test did you use and why?\n",
    "    <li> Write a story with your conclusion in the context of the original problem.\n",
    "    </ul>\n",
    "</ol>\n",
    "\n",
    "You can include written notes in notebook cells using Markdown: \n",
    "   - In the control panel at the top, choose Cell > Cell Type > Markdown\n",
    "   - Markdown syntax: http://nestacms.com/docs/creating-content/markdown-cheat-sheet\n",
    "\n",
    "#### Resources\n",
    "\n",
    "+ Information and data sources: http://www.amstat.org/publications/jse/datasets/normtemp.txt, http://www.amstat.org/publications/jse/jse_data_archive.htm\n",
    "+ Markdown syntax: http://nestacms.com/docs/creating-content/markdown-cheat-sheet\n",
    "\n",
    "****"
   ]
  },
  {
   "cell_type": "code",
   "execution_count": 1,
   "metadata": {
    "collapsed": true
   },
   "outputs": [],
   "source": [
    "import numpy as np\n",
    "import pandas as pd\n",
    "import matplotlib.pyplot as plt\n",
    "import seaborn as sns"
   ]
  },
  {
   "cell_type": "code",
   "execution_count": 2,
   "metadata": {},
   "outputs": [
    {
     "name": "stdout",
     "output_type": "stream",
     "text": [
      "   temperature gender  heart_rate\n",
      "0         99.3      F        68.0\n",
      "1         98.4      F        81.0\n",
      "2         97.8      M        73.0\n",
      "3         99.2      F        66.0\n",
      "4         98.0      F        73.0\n"
     ]
    }
   ],
   "source": [
    "df = pd.read_csv('data/human_body_temperature.csv')\n",
    "print(df.head())"
   ]
  },
  {
   "cell_type": "code",
   "execution_count": 3,
   "metadata": {},
   "outputs": [
    {
     "name": "stdout",
     "output_type": "stream",
     "text": [
      "aLL:         temperature  heart_rate\n",
      "count   130.000000  130.000000\n",
      "mean     98.249231   73.761538\n",
      "std       0.733183    7.062077\n",
      "min      96.300000   57.000000\n",
      "25%      97.800000   69.000000\n",
      "50%      98.300000   74.000000\n",
      "75%      98.700000   79.000000\n",
      "max     100.800000   89.000000\n",
      "male:         temperature  heart_rate\n",
      "count    65.000000   65.000000\n",
      "mean     98.104615   73.369231\n",
      "std       0.698756    5.875184\n",
      "min      96.300000   58.000000\n",
      "25%      97.600000   70.000000\n",
      "50%      98.100000   73.000000\n",
      "75%      98.600000   78.000000\n",
      "max      99.500000   86.000000\n",
      "female:         temperature  heart_rate\n",
      "count    65.000000   65.000000\n",
      "mean     98.393846   74.153846\n",
      "std       0.743488    8.105227\n",
      "min      96.400000   57.000000\n",
      "25%      98.000000   68.000000\n",
      "50%      98.400000   76.000000\n",
      "75%      98.800000   80.000000\n",
      "max     100.800000   89.000000\n"
     ]
    }
   ],
   "source": [
    "df_male = df[df.gender=='M']\n",
    "df_female=df[df.gender=='F']\n",
    "\n",
    "print(\"aLL: \", df.describe())\n",
    "print(\"male: \", df_male.describe())\n",
    "print(\"female: \", df_female.describe())"
   ]
  },
  {
   "cell_type": "code",
   "execution_count": 4,
   "metadata": {},
   "outputs": [
    {
     "data": {
      "image/png": "[encoded data removed]",
      "text/plain": [
       "<matplotlib.figure.Figure at 0xbb10c18>"
      ]
     },
     "metadata": {},
     "output_type": "display_data"
    },
    {
     "data": {
      "image/png": "[encoded data removed]",
      "text/plain": [
       "<matplotlib.figure.Figure at 0xbcd8d30>"
      ]
     },
     "metadata": {},
     "output_type": "display_data"
    }
   ],
   "source": [
    "# create a distribution plot using seaborn\n",
    "sns.distplot(df.temperature)\n",
    "\n",
    "# create a scatterplot of male and female temperature vs heart rate in one chart\n",
    "#fig, ax = plt.subplots()\n",
    "ax=df_male.plot(kind='scatter', x='temperature', y='heart_rate', color='Blue', label='Male')\n",
    "df_female.plot(kind='scatter', x='temperature', y='heart_rate', color='Red', label='Female',ax=ax)\n",
    "plt.show()"
   ]
  },
  {
   "cell_type": "code",
   "execution_count": 5,
   "metadata": {},
   "outputs": [
    {
     "name": "stdout",
     "output_type": "stream",
     "text": [
      "Normal distribution\n"
     ]
    }
   ],
   "source": [
    "import scipy.stats as stats\n",
    "\n",
    "pval = (stats.normaltest(df['temperature']))[1]\n",
    "#print(pval)\n",
    "if(pval < 0.05):\n",
    "    print (\"Not normal distribution\")\n",
    "else:\n",
    "    print (\"Normal distribution\")\n",
    "\n",
    "#Necessary Sample Size = (Z-score)2 * StdDev*(1-StdDev) / (margin of error)2 \n",
    "#if we choose 95% confidence level, then z score = 1.96 margin of error = 5%, and we choose StdDev = 0.5, \n",
    "#Nsample_size=1.96*1.96 * 0.5*0.5/(0.05)^2 =384\n",
    "#if df.shape[0] >= 384:\n",
    " #   print (\"Sample size is large enough\")\n",
    "#else:\n",
    " #   print (\"Sample size is NOT large enough\")"
   ]
  },
  {
   "cell_type": "code",
   "execution_count": 6,
   "metadata": {
    "collapsed": true
   },
   "outputs": [],
   "source": [
    "#Q1. Is the distribution of body temperatures normal?\n",
    "#Answer#: Yes, it's normally distributed.\n",
    "\n",
    "#Q2. Is the sample size large? Are the observations independent? \n",
    "#Based on the Central Limit Theorem, the sample size > 30 is considered large. Here, we have sample size =130 >30. \n",
    "#The observations are also independent."
   ]
  },
  {
   "cell_type": "code",
   "execution_count": 7,
   "metadata": {
    "collapsed": true
   },
   "outputs": [],
   "source": [
    "#Q3:Is the true population mean really 98.6 degrees F?\n",
    "#Would you use a one-sample or two-sample test? Why?\n",
    "#In this situation, is it appropriate to use the  tt  or  zz  statistic?\n",
    "#Now try using the other test. How is the result be different? Why?"
   ]
  },
  {
   "cell_type": "code",
   "execution_count": 8,
   "metadata": {},
   "outputs": [
    {
     "name": "stdout",
     "output_type": "stream",
     "text": [
      "t-statistic: -5.45482329236\n",
      "p value = 2.41063204156e-07\n"
     ]
    }
   ],
   "source": [
    "#Here, we use one-sample test, because we only have one set of data available that we will compare to single mean. \n",
    "#Also, we use t-statistic, becuase the population standard deviation is unknown.  \n",
    "from scipy.stats import ttest_1samp\n",
    "t_stat, p_val_t = ttest_1samp(df['temperature'], 98.6)\n",
    "\n",
    "print('t-statistic:',t_stat)\n",
    "print('p value =',p_val_t)"
   ]
  },
  {
   "cell_type": "code",
   "execution_count": 9,
   "metadata": {},
   "outputs": [
    {
     "name": "stdout",
     "output_type": "stream",
     "text": [
      "z-statistic: -5.45482329236\n",
      "p value = 4.9021570141e-08\n"
     ]
    }
   ],
   "source": [
    "# conduct one-sample z-test\n",
    "from statsmodels.stats.weightstats import ztest\n",
    "z_stat, p_val_z = ztest(x1= df['temperature'], value = 98.6)\n",
    "\n",
    "print('z-statistic:',z_stat)\n",
    "print('p value =',p_val_z)"
   ]
  },
  {
   "cell_type": "code",
   "execution_count": 10,
   "metadata": {
    "collapsed": true
   },
   "outputs": [],
   "source": [
    "#Because the p-value is less than 1%, we can reject the null hypthesis that the true population mean is 98.6 degrees F\n",
    "#Therefore, we said that the true population mean is different than 98.6 degrees F.\n",
    "#The t and values are approximately the same, because the sample size is quite large."
   ]
  },
  {
   "cell_type": "code",
   "execution_count": 11,
   "metadata": {
    "collapsed": true
   },
   "outputs": [],
   "source": [
    "#Q4,Draw a small sample of size 10 from the data and repeat both tests.\n",
    "#Which one is the correct one to use?\n",
    "#What do you notice? What does this tell you about the difference in application of the  tt  and  zz  statistic?"
   ]
  },
  {
   "cell_type": "code",
   "execution_count": 12,
   "metadata": {
    "collapsed": true
   },
   "outputs": [],
   "source": [
    "# generate random sample\n",
    "sample = np.random.choice(df['temperature'], size=10)"
   ]
  },
  {
   "cell_type": "code",
   "execution_count": 13,
   "metadata": {},
   "outputs": [
    {
     "name": "stdout",
     "output_type": "stream",
     "text": [
      "t-statistic: 0.686022018931\n",
      "p value = 0.509983811254\n"
     ]
    }
   ],
   "source": [
    "# conduct one-sample t-test\n",
    "t_stat, p_val_t = ttest_1samp(sample, 98.6)\n",
    "\n",
    "print('t-statistic:',t_stat)\n",
    "print('p value =',p_val_t)"
   ]
  },
  {
   "cell_type": "code",
   "execution_count": 14,
   "metadata": {},
   "outputs": [
    {
     "name": "stdout",
     "output_type": "stream",
     "text": [
      "z-statistic: 0.686022018931\n",
      "p value = 0.492699223452\n"
     ]
    }
   ],
   "source": [
    "# conduct one-sample z-test\n",
    "z_stat, p_val_z = ztest(x1= sample, value = 98.6)\n",
    "\n",
    "print('z-statistic:',z_stat)\n",
    "print('p value =',p_val_z)"
   ]
  },
  {
   "cell_type": "code",
   "execution_count": 15,
   "metadata": {
    "collapsed": true
   },
   "outputs": [],
   "source": [
    "#The p values for the t and z tests are significantly different. \n",
    "#The sample size is less than 30 and the population standard deviation is unknown, so the tt-statistic should be used."
   ]
  },
  {
   "cell_type": "code",
   "execution_count": 16,
   "metadata": {
    "collapsed": true
   },
   "outputs": [],
   "source": [
    "#Q5.At what temperature should we consider someone's temperature to be \"abnormal\"?\n",
    "#Start by computing the margin of error and confidence interval."
   ]
  },
  {
   "cell_type": "code",
   "execution_count": 18,
   "metadata": {},
   "outputs": [
    {
     "name": "stdout",
     "output_type": "stream",
     "text": [
      "The mean temperature of the data is 98.24923076923078\n",
      "margin of error for a sample mean = 0.125550964803\n"
     ]
    }
   ],
   "source": [
    "# Here, we first calculate the margin of error for sample mean with 95% confidence\n",
    "print('The mean temperature of the data is', np.mean(df['temperature']))\n",
    "z = 1.96 # this is the value of z for 95% confidence\n",
    "margin_error = z * np.std(df['temperature']) / np.sqrt(len(df['temperature']))\n",
    "print('margin of error for a sample mean =', margin_error)"
   ]
  },
  {
   "cell_type": "code",
   "execution_count": 19,
   "metadata": {
    "collapsed": true
   },
   "outputs": [],
   "source": [
    "#The normal human temperatures is estimated with 95% confidence, which is 98.25 +/- 0.126, between 98.124 and 98.376 in degrees Fahrenheit.\n",
    "#So, we can define the \"abnormal\" temperature to be outside of this range, which is greater than 98.376 or less than 98.124."
   ]
  },
  {
   "cell_type": "code",
   "execution_count": 20,
   "metadata": {},
   "outputs": [
    {
     "name": "stdout",
     "output_type": "stream",
     "text": [
      "95% confidence interval: (96.81775582674824, 99.680705711713316)\n"
     ]
    }
   ],
   "source": [
    "# Calculate 95% confidence interval\n",
    "from scipy import stats\n",
    "conf_int = stats.norm.interval(alpha=0.95, loc=np.mean(df['temperature']), scale=np.std(df['temperature']))\n",
    "print('95% confidence interval:',conf_int)"
   ]
  },
  {
   "cell_type": "code",
   "execution_count": 21,
   "metadata": {
    "collapsed": true
   },
   "outputs": [],
   "source": [
    "# If we use the 95% confidence interval, we can define an \"abnormal\" temperature to be \n",
    "#the temperature greater than 99.478 or less than 96.723 in degrees Fahrenheit."
   ]
  },
  {
   "cell_type": "code",
   "execution_count": 22,
   "metadata": {
    "collapsed": true
   },
   "outputs": [],
   "source": [
    "#Q6. Is there a significant difference between males and females in normal temperature?\n",
    "#What test did you use and why?\n",
    "#Write a story with your conclusion in the context of the original problem."
   ]
  },
  {
   "cell_type": "code",
   "execution_count": 23,
   "metadata": {
    "collapsed": true
   },
   "outputs": [],
   "source": [
    "#First, we get male and female temperature scores\n",
    "male_temps = np.array(df.temperature[df.gender == \"M\"])\n",
    "female_temps = np.array(df.temperature[df.gender == \"F\"])"
   ]
  },
  {
   "cell_type": "code",
   "execution_count": 24,
   "metadata": {},
   "outputs": [
    {
     "name": "stdout",
     "output_type": "stream",
     "text": [
      "t-statistic: -2.28543453817\n",
      "p value = 0.0239318831224\n"
     ]
    }
   ],
   "source": [
    "#Since the population standard deviation is unknown, we will use the t-test\n",
    "# Now, we we use two sample t-test to  compare the difference of two quantities\n",
    "\n",
    "from scipy.stats import ttest_ind\n",
    "t_stat, p_val_t = ttest_ind(male_temps, female_temps)\n",
    "\n",
    "print('t-statistic:',t_stat)\n",
    "print('p value =',p_val_t)"
   ]
  },
  {
   "cell_type": "code",
   "execution_count": null,
   "metadata": {
    "collapsed": true
   },
   "outputs": [],
   "source": [
    "#Based on the p-value, which is below the significance level of 0.05,the evidence is weak to accept the null Hypothesis.\n",
    "#Here, the null hypothesis is that there is no difference between male and female temperatures\n",
    "#Therefore, we reject the null Hypothesis, which means There is a significant difference between males and females in \n",
    "#normal temperature."
   ]
  }
 ],
 "metadata": {
  "kernelspec": {
   "display_name": "Python 3",
   "language": "python",
   "name": "python3"
  },
  "language_info": {
   "codemirror_mode": {
    "name": "ipython",
    "version": 3
   },
   "file_extension": ".py",
   "mimetype": "text/x-python",
   "name": "python",
   "nbconvert_exporter": "python",
   "pygments_lexer": "ipython3",
   "version": "3.6.3"
  }
 },
 "nbformat": 4,
 "nbformat_minor": 1
}
